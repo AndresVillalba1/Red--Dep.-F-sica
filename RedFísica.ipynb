{
 "cells": [
  {
   "cell_type": "code",
   "execution_count": null,
   "id": "011e64fd",
   "metadata": {},
   "outputs": [],
   "source": [
    "import nltk\n",
    "import networkx as nx\n",
    "import matplotlib.pyplot as plt\n",
    "import numpy as np\n",
    "import pandas as pd\n",
    "import xlrd\n",
    "from nltk.corpus import stopwords\n",
    "from nltk.tokenize import word_tokenize\n",
    "from itertools import combinations\n",
    "import community"
   ]
  },
  {
   "cell_type": "code",
   "execution_count": null,
   "id": "18643fcd",
   "metadata": {},
   "outputs": [],
   "source": [
    "nltk.download(\"stopwords\")\n",
    "stop_words = set(stopwords.words(\"english\"))"
   ]
  },
  {
   "cell_type": "code",
   "execution_count": null,
   "id": "eaed43f4",
   "metadata": {},
   "outputs": [],
   "source": [
    "excel_file = pd.ExcelFile(\"Tarea1. Viviescas.xlsx\")\n",
    "\n",
    "\n",
    "WORDS = []\n",
    "\n",
    "\n",
    "#Reordenamiento de los daots\n",
    "for sheet_name in excel_file.sheet_names:\n",
    "    df = pd.read_excel(\"Proyecto. Dep-Física.xlsx\", sheet_name= sheet_name)\n",
    "    df = df.dropna(subset=[\"Descripción original\"])\n",
    "    num_filas , num_columns = df.shape\n",
    "    for row in range(num_filas):\n",
    "        data= df.iloc[row,3]\n",
    "        if type(data) != str:\n",
    "            data= \"\"\n",
    "        data_tokenized = word_tokenize(data)\n",
    "        datamela= list(set(data_tokenized)-stop_words)\n",
    "        WORDS.append(datamela)        \n",
    "\n",
    "        \n",
    "# Generación del grafo       \n",
    "frecuencias = {}\n",
    "for lista in WORDS:\n",
    "    pares = combinations(lista, 2)\n",
    "    for par in pares:\n",
    "        if par in frecuencias:\n",
    "            frecuencias[par] += 1\n",
    "        else:\n",
    "            frecuencias[par] = 1\n",
    "\n",
    "\n",
    "            \n",
    "G = nx.Graph()\n",
    "nodos = set([palabra for lista in WORDS for palabra in lista])\n",
    "\n",
    "\n",
    "for par, peso in frecuencias.items():\n",
    "    G.add_edge(par[0], par[1], weight = peso)\n",
    "    \n",
    "pos = nx.spring_layout(G)\n",
    "nx.draw(G, pos, with_labels= True)\n",
    "labels = nx.get_edge_attributes(G, 'weight')\n",
    "nx.draw_networkx_edge_labels(G, pos, edge_labels=labels)\n",
    "plt.show()\n",
    "\n",
    "\n",
    "\n",
    "# Determinación de comunidades por medio del método de Louvain\n",
    "\n",
    "\n",
    "particiones = community.louvain.best_partitions(G, weight =\"weight\")\n",
    "\n",
    "for nodo, comunidad in particiones.items():\n",
    "    print(\"Nodo\", nodo, \"en comunidad\", comunidad)"
   ]
  }
 ],
 "metadata": {
  "kernelspec": {
   "display_name": "Python 3 (ipykernel)",
   "language": "python",
   "name": "python3"
  },
  "language_info": {
   "codemirror_mode": {
    "name": "ipython",
    "version": 3
   },
   "file_extension": ".py",
   "mimetype": "text/x-python",
   "name": "python",
   "nbconvert_exporter": "python",
   "pygments_lexer": "ipython3",
   "version": "3.11.2"
  }
 },
 "nbformat": 4,
 "nbformat_minor": 5
}
